{
  "nbformat": 4,
  "nbformat_minor": 0,
  "metadata": {
    "colab": {
      "provenance": []
    },
    "kernelspec": {
      "name": "python3",
      "display_name": "Python 3"
    },
    "language_info": {
      "name": "python"
    }
  },
  "cells": [
    {
      "cell_type": "code",
      "source": [
        "!pip install yfinance scipy --quiet\n",
        "\n",
        "import yfinance as yf\n",
        "from scipy.stats import norm\n",
        "import numpy as np\n",
        "import pandas as pd\n",
        "from datetime import datetime\n",
        "\n",
        "# Black-Scholes 공식 (콜)\n",
        "def bs_call(S, K, T, r, sigma):\n",
        "    if T <= 0: return max(S - K, 0)\n",
        "    d1 = (np.log(S/K) + (r + sigma**2 / 2)*T) / (sigma * np.sqrt(T))\n",
        "    d2 = d1 - sigma * np.sqrt(T)\n",
        "    return S * norm.cdf(d1) - K * np.exp(-r*T) * norm.cdf(d2)\n",
        "\n",
        "# 기본 세팅\n",
        "ticker = \"AAPL\"\n",
        "r = 0.052\n",
        "sigma = 0.25\n",
        "gap_threshold = 0.5  # 괴리 기준 (예시)\n",
        "fee_estimate = 0.15  # 수수료/슬리피지 등 감안\n",
        "\n",
        "# 데이터 수집\n",
        "stock = yf.Ticker(ticker)\n",
        "S = stock.history(period=\"1d\", interval=\"1m\")['Close'].iloc[-1]\n",
        "expiration_str = stock.options[0]\n",
        "expiration = datetime.strptime(expiration_str, \"%Y-%m-%d\")\n",
        "T = (expiration - datetime.today()).days / 365\n",
        "calls = stock.option_chain(expiration_str).calls\n",
        "\n",
        "# 분석 결과 저장\n",
        "results = []\n",
        "\n",
        "for idx, row in calls.iterrows():\n",
        "    K = row['strike']\n",
        "    market = row['lastPrice']\n",
        "    if np.isnan(market) or market < 0.1:\n",
        "        continue\n",
        "\n",
        "    theo = bs_call(S, K, T, r, sigma)\n",
        "    diff = market - theo\n",
        "\n",
        "    if abs(diff) > gap_threshold:\n",
        "        strategy = \"CALL 매도 (고평가)\" if diff > 0 else \"CALL 매수 (저평가)\"\n",
        "        expected_gain = abs(diff) - fee_estimate\n",
        "    else:\n",
        "        strategy = \"-\"\n",
        "        expected_gain = 0\n",
        "\n",
        "    results.append({\n",
        "        \"Strike\": K,\n",
        "        \"Market Price\": market,\n",
        "        \"Theo Price (σ=0.25)\": round(theo, 2),\n",
        "        \"Diff\": round(diff, 2),\n",
        "        \"전략\": strategy,\n",
        "        \"예상수익(추정)\": round(expected_gain, 2)\n",
        "    })\n",
        "\n",
        "# 결과 출력\n",
        "df = pd.DataFrame(results).sort_values(\"Strike\")\n",
        "df_trade = df[df[\"전략\"] != \"-\"]\n",
        "\n",
        "from IPython.display import display\n",
        "print(\"전체 분석 결과 (전략 추천 포함):\")\n",
        "display(df_trade)\n"
      ],
      "metadata": {
        "id": "70XTtgkcBQ11"
      },
      "execution_count": null,
      "outputs": []
    }
  ]
}